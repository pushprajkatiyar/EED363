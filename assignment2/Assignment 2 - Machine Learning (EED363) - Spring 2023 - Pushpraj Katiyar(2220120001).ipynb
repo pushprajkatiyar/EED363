{
 "cells": [
  {
   "cell_type": "code",
   "execution_count": 14,
   "id": "323766ac",
   "metadata": {},
   "outputs": [],
   "source": [
    "# 07/02/2023 <---- Started working on\n",
    "# Author: Pushpraj Katiyar\n",
    "# email: pk825@snu.edu.in <--- for any query, reach out to this email\n",
    "# Roll no: 2220120001\n",
    "\n",
    "#let's import all useful packages\n",
    "\n",
    "# dataset is provided in form of a zip file, to extract it let's import zipfile \n",
    "import zipfile\n",
    "#To read extracted dataset csv, let's import panda \n",
    "import pandas as pd\n",
    "\n",
    "# Let's import required sklearn lib methods,\n",
    "# Documentation can be found at https://scikit-learn.org/\n",
    "from sklearn.model_selection import train_test_split # <----- train_test_split Split arrays into random train and test subsets.\n",
    "from sklearn.preprocessing import StandardScaler     # <----- It removes the mean and scaling to unit variance.\n",
    "from sklearn.metrics import accuracy_score\n",
    "\n",
    "# Import all the required classifier from sklearn lib\n",
    "from sklearn.neighbors import KNeighborsClassifier\n",
    "from sklearn.tree import DecisionTreeClassifier\n",
    "from sklearn.ensemble import RandomForestClassifier\n",
    "\n",
    "# getting some upcoming deprication warning due to installed python version. bit of non essencial code\n",
    "import warnings\n",
    "warnings.filterwarnings('ignore')\n",
    "\n",
    "# Extract the CSV file from the ZIP file\n",
    "with zipfile.ZipFile(\"MNIST_Dataset.zip\", \"r\") as zip_ref:\n",
    "    zip_ref.extractall(\"MNIST_Dataset\")"
   ]
  },
  {
   "cell_type": "code",
   "execution_count": 15,
   "id": "c0051427",
   "metadata": {},
   "outputs": [],
   "source": [
    "# Read the CSV file into a pandas DataFrame\n",
    "df = pd.read_csv(\"MNIST_Dataset/mnist.csv\")\n",
    "\n",
    "# Split features and target\n",
    "X = df.iloc[:, 1:]\n",
    "y = df.iloc[:, 0]\n",
    "\n",
    "# Preprocess the data\n",
    "scaler = StandardScaler()\n",
    "X = scaler.fit_transform(X)\n",
    "\n",
    "# Split into training and testing sets\n",
    "X_train, X_test, y_train, y_test = train_test_split(X, y, test_size=0.3, random_state=0)"
   ]
  },
  {
   "cell_type": "code",
   "execution_count": 16,
   "id": "faa65cfd",
   "metadata": {},
   "outputs": [
    {
     "name": "stdout",
     "output_type": "stream",
     "text": [
      "Accuracy for: K = 1 is:  0.9353968253968254\n",
      "Accuracy for: K = 2 is:  0.9246825396825397\n",
      "Accuracy for: K = 3 is:  0.9364285714285714\n",
      "Accuracy for: K = 4 is:  0.9334920634920635\n",
      "Accuracy for: K = 5 is:  0.935952380952381\n",
      "Accuracy for: K = 6 is:  0.9343650793650794\n",
      "Accuracy for: K = 7 is:  0.933968253968254\n",
      "Accuracy for: K = 8 is:  0.9346031746031747\n",
      "Accuracy for: K = 9 is:  0.9330952380952381\n",
      "Accuracy for: K = 10 is:  0.9325396825396826\n",
      "Best K-value: 3\n"
     ]
    }
   ],
   "source": [
    "# Apply KNN classifier and find the accuracy score\n",
    "accuracy = []\n",
    "for k in range(1, 11):\n",
    "#     print(\"Calculating accuracy for: K =\", k)\n",
    "    knn = KNeighborsClassifier(n_neighbors=k)\n",
    "    knn.fit(X_train, y_train)\n",
    "    y_pred = knn.predict(X_test)\n",
    "    print(\"Accuracy for: K =\",k, \"is: \", accuracy_score(y_test, y_pred))\n",
    "    accuracy.append(accuracy_score(y_test, y_pred))\n",
    "\n",
    "# Determine the best K-value\n",
    "best_k = accuracy.index(max(accuracy)) + 1\n",
    "print(\"Best K-value:\", best_k)"
   ]
  },
  {
   "cell_type": "code",
   "execution_count": 21,
   "id": "7adab2b7",
   "metadata": {},
   "outputs": [
    {
     "name": "stdout",
     "output_type": "stream",
     "text": [
      "Final KNN accuracy:  0.9364285714285714\n",
      "Final Decision tree accuracy:  0.8646031746031746\n"
     ]
    }
   ],
   "source": [
    "\n",
    "# Apply KNN classifier and find the accuracy score\n",
    "knn = KNeighborsClassifier(n_neighbors=best_k)\n",
    "knn.fit(X_train, y_train)\n",
    "y_pred = knn.predict(X_test)\n",
    "knn_accuracy = accuracy_score(y_test, y_pred)\n",
    "print(\"Final KNN accuracy: \", knn_accuracy)\n",
    "\n",
    "# Apply Decision Tree classifier and pruning methods to improve the testing accuracy\n",
    "dt = DecisionTreeClassifier(criterion='entropy', random_state=0)\n",
    "dt.fit(X_train, y_train)\n",
    "y_pred = dt.predict(X_test)\n",
    "dt_accuracy = accuracy_score(y_test, y_pred)\n",
    "\n",
    "print(\"Final Decision tree accuracy: \", dt_accuracy)"
   ]
  },
  {
   "cell_type": "code",
   "execution_count": 29,
   "id": "05d2a2dd",
   "metadata": {},
   "outputs": [
    {
     "name": "stdout",
     "output_type": "stream",
     "text": [
      "Accuracy for: n_estimators = 10 is:  0.9371428571428572\n",
      "Accuracy for: n_estimators = 11 is:  0.9399206349206349\n",
      "Accuracy for: n_estimators = 12 is:  0.943968253968254\n",
      "Accuracy for: n_estimators = 13 is:  0.9448412698412698\n",
      "Accuracy for: n_estimators = 14 is:  0.9452380952380952\n",
      "Accuracy for: n_estimators = 15 is:  0.947936507936508\n",
      "Accuracy for: n_estimators = 16 is:  0.9486507936507936\n",
      "Accuracy for: n_estimators = 17 is:  0.9503968253968254\n",
      "Accuracy for: n_estimators = 18 is:  0.9521428571428572\n",
      "Accuracy for: n_estimators = 19 is:  0.9523015873015873\n",
      "Accuracy for: n_estimators = 20 is:  0.9526984126984127\n",
      "Accuracy for: n_estimators = 21 is:  0.9534126984126984\n",
      "Accuracy for: n_estimators = 22 is:  0.952936507936508\n",
      "Accuracy for: n_estimators = 23 is:  0.9538095238095238\n",
      "Accuracy for: n_estimators = 24 is:  0.954047619047619\n",
      "Accuracy for: n_estimators = 25 is:  0.9542063492063492\n",
      "Accuracy for: n_estimators = 26 is:  0.9545238095238096\n",
      "Accuracy for: n_estimators = 27 is:  0.9542857142857143\n",
      "Accuracy for: n_estimators = 28 is:  0.9546825396825397\n",
      "Accuracy for: n_estimators = 29 is:  0.9550793650793651\n",
      "Accuracy for: n_estimators = 30 is:  0.9556349206349206\n",
      "Accuracy for: n_estimators = 31 is:  0.9557936507936508\n",
      "Accuracy for: n_estimators = 32 is:  0.956031746031746\n",
      "Accuracy for: n_estimators = 33 is:  0.9565079365079365\n",
      "Accuracy for: n_estimators = 34 is:  0.9571428571428572\n",
      "Accuracy for: n_estimators = 35 is:  0.9567460317460318\n",
      "Accuracy for: n_estimators = 36 is:  0.9575396825396826\n",
      "Accuracy for: n_estimators = 37 is:  0.9573809523809523\n",
      "Accuracy for: n_estimators = 38 is:  0.9573809523809523\n",
      "Accuracy for: n_estimators = 39 is:  0.958015873015873\n",
      "Accuracy for: n_estimators = 40 is:  0.9581746031746031\n",
      "Accuracy for: n_estimators = 41 is:  0.9582539682539682\n",
      "Accuracy for: n_estimators = 42 is:  0.958015873015873\n",
      "Accuracy for: n_estimators = 43 is:  0.9584126984126984\n",
      "Accuracy for: n_estimators = 44 is:  0.9584126984126984\n",
      "Accuracy for: n_estimators = 45 is:  0.9584126984126984\n",
      "Accuracy for: n_estimators = 46 is:  0.958015873015873\n",
      "Accuracy for: n_estimators = 47 is:  0.9583333333333334\n",
      "Accuracy for: n_estimators = 48 is:  0.9584126984126984\n",
      "Accuracy for: n_estimators = 49 is:  0.9584920634920635\n",
      "Accuracy for: n_estimators = 50 is:  0.9585714285714285\n",
      "Accuracy for: n_estimators = 51 is:  0.9584126984126984\n",
      "Accuracy for: n_estimators = 52 is:  0.9592063492063492\n",
      "Accuracy for: n_estimators = 53 is:  0.9587301587301588\n",
      "Accuracy for: n_estimators = 54 is:  0.9582539682539682\n",
      "Accuracy for: n_estimators = 55 is:  0.9580952380952381\n",
      "Accuracy for: n_estimators = 56 is:  0.9582539682539682\n",
      "Accuracy for: n_estimators = 57 is:  0.9582539682539682\n",
      "Accuracy for: n_estimators = 58 is:  0.9580952380952381\n",
      "Accuracy for: n_estimators = 59 is:  0.9582539682539682\n",
      "Accuracy for: n_estimators = 60 is:  0.9580952380952381\n",
      "Accuracy for: n_estimators = 61 is:  0.9580952380952381\n",
      "Accuracy for: n_estimators = 62 is:  0.9582539682539682\n",
      "Accuracy for: n_estimators = 63 is:  0.9583333333333334\n",
      "Accuracy for: n_estimators = 64 is:  0.9585714285714285\n",
      "Accuracy for: n_estimators = 65 is:  0.9587301587301588\n",
      "Accuracy for: n_estimators = 66 is:  0.9587301587301588\n",
      "Accuracy for: n_estimators = 67 is:  0.9584126984126984\n",
      "Accuracy for: n_estimators = 68 is:  0.959047619047619\n",
      "Accuracy for: n_estimators = 69 is:  0.9591269841269842\n",
      "Accuracy for: n_estimators = 70 is:  0.9594444444444444\n",
      "Accuracy for: n_estimators = 71 is:  0.9593650793650793\n",
      "Accuracy for: n_estimators = 72 is:  0.9595238095238096\n",
      "Accuracy for: n_estimators = 73 is:  0.9593650793650793\n",
      "Accuracy for: n_estimators = 74 is:  0.959920634920635\n",
      "Accuracy for: n_estimators = 75 is:  0.9596825396825397\n",
      "Accuracy for: n_estimators = 76 is:  0.9595238095238096\n",
      "Accuracy for: n_estimators = 77 is:  0.9598412698412698\n",
      "Accuracy for: n_estimators = 78 is:  0.9597619047619048\n",
      "Accuracy for: n_estimators = 79 is:  0.9593650793650793\n",
      "Accuracy for: n_estimators = 80 is:  0.9594444444444444\n",
      "Accuracy for: n_estimators = 81 is:  0.9592857142857143\n",
      "Accuracy for: n_estimators = 82 is:  0.959047619047619\n",
      "Accuracy for: n_estimators = 83 is:  0.9594444444444444\n",
      "Accuracy for: n_estimators = 84 is:  0.9589682539682539\n",
      "Accuracy for: n_estimators = 85 is:  0.9592857142857143\n",
      "Accuracy for: n_estimators = 86 is:  0.9592857142857143\n",
      "Accuracy for: n_estimators = 87 is:  0.9588095238095238\n",
      "Accuracy for: n_estimators = 88 is:  0.9586507936507936\n",
      "Accuracy for: n_estimators = 89 is:  0.9591269841269842\n",
      "Accuracy for: n_estimators = 90 is:  0.9589682539682539\n",
      "Accuracy for: n_estimators = 91 is:  0.9595238095238096\n",
      "Accuracy for: n_estimators = 92 is:  0.9593650793650793\n",
      "Accuracy for: n_estimators = 93 is:  0.9591269841269842\n",
      "Accuracy for: n_estimators = 94 is:  0.9592063492063492\n",
      "Accuracy for: n_estimators = 95 is:  0.9593650793650793\n",
      "Accuracy for: n_estimators = 96 is:  0.9592063492063492\n",
      "Accuracy for: n_estimators = 97 is:  0.9597619047619048\n",
      "Accuracy for: n_estimators = 98 is:  0.9596825396825397\n",
      "Accuracy for: n_estimators = 99 is:  0.9595238095238096\n",
      "Best n_estimators value: 65\n"
     ]
    }
   ],
   "source": [
    "#for best results, we need to identify best value of n_estimators for Random forest clasifier which is number of trees in the forest\n",
    "rf_accuracy = []\n",
    "for n in range(10, 100):\n",
    "#     print(\"Calculating accuracy for: K =\", k)\n",
    "    rf = RandomForestClassifier(n_estimators=n, criterion='entropy', random_state=0)\n",
    "    rf.fit(X_train, y_train)\n",
    "    y_pred = rf.predict(X_test)\n",
    "    print(\"Accuracy for: n_estimators =\",n, \"is: \", accuracy_score(y_test, y_pred))\n",
    "    rf_accuracy.append(accuracy_score(y_test, y_pred))\n",
    "    \n",
    "# Determine the best K-value\n",
    "best_n = rf_accuracy.index(max(rf_accuracy)) + 1\n",
    "print(\"Best n_estimators value:\", best_n)\n"
   ]
  },
  {
   "cell_type": "code",
   "execution_count": 30,
   "id": "670fd6c5",
   "metadata": {},
   "outputs": [
    {
     "name": "stdout",
     "output_type": "stream",
     "text": [
      "Final Random forest accuracy:  0.9587301587301588\n"
     ]
    }
   ],
   "source": [
    "# Apply Random Forest classifier\n",
    "rf = RandomForestClassifier(n_estimators=best_n, criterion='entropy', random_state=0)\n",
    "rf.fit(X_train, y_train)\n",
    "y_pred = rf.predict(X_test)\n",
    "rf_accuracy = accuracy_score(y_test, y_pred)\n",
    "print(\"Final Random forest accuracy: \", rf_accuracy)"
   ]
  },
  {
   "cell_type": "code",
   "execution_count": 31,
   "id": "ba327f8b",
   "metadata": {},
   "outputs": [
    {
     "name": "stdout",
     "output_type": "stream",
     "text": [
      "KNN Accuracy: 0.9364285714285714\n",
      "Decision Tree Accuracy: 0.8646031746031746\n",
      "Random Forest Accuracy: 0.9587301587301588\n",
      "Random Forest is the best classifier for the given dataset.\n"
     ]
    }
   ],
   "source": [
    "# Compare the performance of the three classifiers\n",
    "print(\"KNN Accuracy:\", knn_accuracy)\n",
    "print(\"Decision Tree Accuracy:\", dt_accuracy)\n",
    "print(\"Random Forest Accuracy:\", rf_accuracy)\n",
    "\n",
    "# Suggest the best classifier for the given dataset\n",
    "if knn_accuracy == max(knn_accuracy, dt_accuracy, rf_accuracy):\n",
    "    print(\"KNN is the best classifier for the given dataset.\")\n",
    "elif dt_accuracy == max(knn_accuracy, dt_accuracy, rf_accuracy):\n",
    "    print(\"Decision Tree is the best classifier for the given dataset.\")\n",
    "else:\n",
    "    print(\"Random Forest is the best classifier for the given dataset.\")"
   ]
  },
  {
   "cell_type": "code",
   "execution_count": null,
   "id": "676b1fe1",
   "metadata": {},
   "outputs": [],
   "source": []
  }
 ],
 "metadata": {
  "kernelspec": {
   "display_name": "Python 3 (ipykernel)",
   "language": "python",
   "name": "python3"
  },
  "language_info": {
   "codemirror_mode": {
    "name": "ipython",
    "version": 3
   },
   "file_extension": ".py",
   "mimetype": "text/x-python",
   "name": "python",
   "nbconvert_exporter": "python",
   "pygments_lexer": "ipython3",
   "version": "3.9.13"
  }
 },
 "nbformat": 4,
 "nbformat_minor": 5
}
