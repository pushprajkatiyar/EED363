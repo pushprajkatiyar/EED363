{
 "cells": [
  {
   "cell_type": "code",
   "execution_count": 87,
   "id": "1b652009",
   "metadata": {},
   "outputs": [],
   "source": [
    "# 03/02/2023\n",
    "# Author: Pushpraj Katiyar\n",
    "# email: pk825@snu.edu.in\n",
    "# Roll no: 2220120001\n",
    "\n",
    "#let's import all useful packages \n",
    "\n",
    "import numpy as np  # import numpy for linear algebra operations\n",
    "import pandas as pd # pandas for data processing, CSV file I/O (e.g. pd.read_csv)\n",
    "# from scipy.stats import norm"
   ]
  },
  {
   "cell_type": "code",
   "execution_count": 88,
   "id": "042c947a",
   "metadata": {},
   "outputs": [],
   "source": [
    "class BayesianClassifier:\n",
    "    def fit(self, X, y, class_probs, means, variances):\n",
    "        self.X = X\n",
    "        self.y = y\n",
    "        self.classes = np.unique(y)\n",
    "        self.class_probs = class_probs\n",
    "        self.means = means\n",
    "        self.variances = variances\n",
    "        \n",
    "    def predict(self, X_test):\n",
    "        y_pred = []\n",
    "        for x in X_test:\n",
    "            posteriors = []\n",
    "            for i, c in enumerate(self.classes):\n",
    "                mean = self.means[i]\n",
    "                var = self.variances[i]\n",
    "                posteriors.append(self.gaussian(mean, var, x)*self.class_probs[i])\n",
    "#                 print(posteriors)\n",
    "#                 print(np.argmax(posteriors))\n",
    "            y_pred.append(self.classes[np.argmax(posteriors)])\n",
    "        return np.array(y_pred)\n",
    "    \n",
    "    def gaussian(self, mean, var, sample):\n",
    "        return np.exp(-0.5 * np.dot(np.dot((sample - mean), np.linalg.inv(np.diag(var))), (sample - mean))) / np.sqrt(2 * np.pi * np.prod(var))\n",
    "    \n",
    "    def accuracy(self, y_true, y_pred):\n",
    "        return np.mean(y_true == y_pred)\n",
    "    \n",
    "    def error_rate(self, y_true, y_pred):\n",
    "        return 1 - self.accuracy(y_true, y_pred)"
   ]
  },
  {
   "cell_type": "code",
   "execution_count": 89,
   "id": "1b762d49",
   "metadata": {},
   "outputs": [
    {
     "name": "stdout",
     "output_type": "stream",
     "text": [
      "Pridiction of classifier: [1. 0. 1. ... 3. 1. 1.]\n",
      "Error rate: 0.4024\n"
     ]
    }
   ],
   "source": [
    "# Load data\n",
    "dataset = pd.read_csv(\"dataset/Dataset1_Assignment1.csv\")\n",
    "X = dataset[[\"x1\", \"x2\"]].to_numpy()\n",
    "y = dataset[\"y\"].to_numpy()\n",
    "\n",
    "# Prior probabilities\n",
    "class_probs = [0.1, 0.3, 0.25, 0.35]\n",
    "\n",
    "# Gaussian means\n",
    "means = [[-1, -1], [-1, 1], [1, 1], [1, 1]]\n",
    "\n",
    "# Gaussian variances\n",
    "variances = [[0.1, 0.1], [0.1, 0.1], [0.1, 0.1], [0.1, 0.1]]\n",
    "\n",
    "# Fit the model\n",
    "clf = BayesianClassifier()\n",
    "clf.fit(X, y, class_probs, means, variances)\n",
    "\n",
    "# Predict on the test data\n",
    "y_pred = clf.predict(X)\n",
    "print(\"Pridiction of classifier:\", y_pred)\n",
    "\n",
    "# Calculate the error rate\n",
    "error_rate = clf.error_rate(y, y_pred)\n",
    "print(\"Error rate:\", error_rate)\n"
   ]
  },
  {
   "cell_type": "code",
   "execution_count": 90,
   "id": "5cfd55dc",
   "metadata": {},
   "outputs": [
    {
     "name": "stdout",
     "output_type": "stream",
     "text": [
      "New Prior probabilities of classes y ∈ {0,1,2,3} are :  [0.1034, 0.2926, 0.256, 0.348]\n"
     ]
    }
   ],
   "source": [
    "#Now using half of the data. first 5000 samples\n",
    "\n",
    "X_firsthalf = X[:5000]\n",
    "y_firsthalf = y[:5000]\n",
    "# print(X_firsthalf)\n",
    "# print(y_firsthalf)\n",
    "prior0 = np.mean(y_firsthalf == 0)\n",
    "prior1 = np.mean(y_firsthalf == 1)\n",
    "prior2 = np.mean(y_firsthalf == 2)\n",
    "prior3 = np.mean(y_firsthalf == 3)\n",
    "\n",
    "#new prior probabilities based on first 5000 records\n",
    "# Prior probabilities\n",
    "New_class_probs = [prior0, prior1, prior2, prior3]\n",
    "print(\"New Prior probabilities of classes y ∈ {0,1,2,3} are : \", New_class_probs)"
   ]
  },
  {
   "cell_type": "code",
   "execution_count": 91,
   "id": "dfc886b5",
   "metadata": {},
   "outputs": [
    {
     "name": "stdout",
     "output_type": "stream",
     "text": [
      "New Gaussian varience are : 0.10042071606970722 0.09940819599510224\n"
     ]
    }
   ],
   "source": [
    "# Compute the sample covariance matrices for each class\n",
    "# calculate mean\n",
    "\n",
    "# def calculateVarience(results):\n",
    "#     mean = sum(results) / len(   )\n",
    "#     # calculate variance using a list comprehension\n",
    "#     var_res = sum((xi - mean) ** 2 for xi in results) / len(results)  \n",
    "#     return var_res\n",
    "# variance1 = calculateVarience(X_firsthalf[0])\n",
    "# variance2 = calculateVarience(X_firsthalf[1])\n",
    "\n",
    "# Compute the sample covariance matrices for each class\n",
    "cov0 = np.cov(X_firsthalf[y_firsthalf == 0,:].T)\n",
    "cov1 = np.cov(X_firsthalf[y_firsthalf == 1,:].T)\n",
    "cov2 = np.cov(X_firsthalf[y_firsthalf == 2,:].T)\n",
    "cov3 = np.cov(X_firsthalf[y_firsthalf == 3,:].T)\n",
    "variance1 = (cov0[0][0] + cov1[0][0] + cov2[0][0] + cov3[0][0])/4\n",
    "variance2 = (cov0[1][1] + cov3[1][1] + cov3[1][1] + cov3[1][1])/4\n",
    "#New Gaussian varience are \n",
    "print(\"New Gaussian varience are :\", variance1, variance2)"
   ]
  },
  {
   "cell_type": "code",
   "execution_count": 92,
   "id": "0ac3caa0",
   "metadata": {},
   "outputs": [
    {
     "name": "stdout",
     "output_type": "stream",
     "text": [
      "Pridiction of classifier: [1. 0. 1. ... 3. 1. 1.]\n",
      "Error rate: 0.4024\n"
     ]
    }
   ],
   "source": [
    "#obtain the probability of classification error using the Bayesian classifier for second 5000 samples\n",
    "# Fit the model\n",
    "clf = BayesianClassifier()\n",
    "clf.fit(X[5000:], y[5000:], class_probs, means, variances)\n",
    "\n",
    "# Predict on the test data\n",
    "y_pred = clf.predict(X)\n",
    "print(\"Pridiction of classifier:\", y_pred)\n",
    "\n",
    "# Calculate the error rate\n",
    "error_rate = clf.error_rate(y, y_pred)\n",
    "print(\"Error rate:\", error_rate)"
   ]
  },
  {
   "cell_type": "code",
   "execution_count": 93,
   "id": "cab7d188",
   "metadata": {},
   "outputs": [
    {
     "name": "stdout",
     "output_type": "stream",
     "text": [
      "Pridiction of classifier: [1. 0. 1. ... 3. 1. 1.]\n",
      "Error rate: 0.4054\n"
     ]
    }
   ],
   "source": [
    "# obtain the Bayesian classifier using the obtained πˆ(i), Pˆ(x|i) and σˆ2 j , and obtain the probability of \n",
    "#classification error using this classifier for first 5000 samples\n",
    "\n",
    "new_variances = [[variance1, variance2], [variance1, variance2], [variance1, variance2], [variance1, variance2]]\n",
    "clf = BayesianClassifier()\n",
    "clf.fit(X[:5000], y[:5000], New_class_probs, means, new_variances)\n",
    "\n",
    "# Predict on the test data\n",
    "y_pred = clf.predict(X)\n",
    "print(\"Pridiction of classifier:\", y_pred)\n",
    "\n",
    "# Calculate the error rate\n",
    "error_rate = clf.error_rate(y, y_pred)\n",
    "print(\"Error rate:\", error_rate)"
   ]
  },
  {
   "cell_type": "code",
   "execution_count": 96,
   "id": "dcfd2caf",
   "metadata": {},
   "outputs": [
    {
     "name": "stdout",
     "output_type": "stream",
     "text": [
      ">>>>>>>>>>  COMPLETED   <<<<<<<<<<<<\n"
     ]
    }
   ],
   "source": [
    "print(\">>>>>>>>>>  COMPLETED   <<<<<<<<<<<<\")"
   ]
  },
  {
   "cell_type": "code",
   "execution_count": null,
   "id": "43bb0fca",
   "metadata": {},
   "outputs": [],
   "source": []
  }
 ],
 "metadata": {
  "kernelspec": {
   "display_name": "Python 3 (ipykernel)",
   "language": "python",
   "name": "python3"
  },
  "language_info": {
   "codemirror_mode": {
    "name": "ipython",
    "version": 3
   },
   "file_extension": ".py",
   "mimetype": "text/x-python",
   "name": "python",
   "nbconvert_exporter": "python",
   "pygments_lexer": "ipython3",
   "version": "3.9.13"
  }
 },
 "nbformat": 4,
 "nbformat_minor": 5
}
