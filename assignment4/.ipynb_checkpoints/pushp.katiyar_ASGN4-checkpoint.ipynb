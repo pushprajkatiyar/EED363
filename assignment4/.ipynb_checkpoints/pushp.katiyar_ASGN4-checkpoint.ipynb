{
 "cells": [
  {
   "cell_type": "code",
   "execution_count": 4,
   "id": "4a3b547c",
   "metadata": {},
   "outputs": [],
   "source": [
    "# 03/04/2023 <---- Started working on\n",
    "# Author: Pushpraj Katiyar\n",
    "# email: pk825@snu.edu.in <--- for any query, reach out to this email\n",
    "# Roll no: 2220120001\n",
    "\n",
    "#let's import all useful packages\n",
    "\n",
    "# dataset is provided in form of a zip file, to extract it let's import zipfile \n",
    "import zipfile\n",
    "#To read extracted dataset csv, let's import panda \n",
    "import pandas as pd\n",
    "import numpy as np\n",
    "\n",
    "# Let's import required sklearn lib methods,\n",
    "# Documentation can be found at https://scikit-learn.org/\n",
    "from sklearn.model_selection import train_test_split # <----- train_test_split Split arrays into random train and test subsets.\n",
    "from sklearn.tree import DecisionTreeClassifier\n",
    "from sklearn.svm import SVC\n",
    "import math\n",
    "\n",
    "# getting some upcoming deprication warning due to installed python version. bit of non essencial code\n",
    "import warnings\n",
    "warnings.filterwarnings('ignore')\n",
    "\n",
    "# Extract the CSV file from the ZIP file\n",
    "with zipfile.ZipFile(\"MNIST_Dataset.zip\", \"r\") as zip_ref:\n",
    "    zip_ref.extractall(\"MNIST_Dataset\")"
   ]
  },
  {
   "cell_type": "code",
   "execution_count": 5,
   "id": "08c955ec",
   "metadata": {},
   "outputs": [],
   "source": [
    "# Read the CSV file into a pandas DataFrame\n",
    "df = pd.read_csv(\"MNIST_Dataset/mnist.csv\")\n",
    "\n",
    "# Split features and target\n",
    "X = df.iloc[:, 1:]\n",
    "y = df.iloc[:, 0]\n",
    "\n",
    "# Preprocess the data\n",
    "# scaler = StandardScaler()\n",
    "# X = scaler.fit_transform(X)\n",
    "\n",
    "# Split into training and testing sets\n",
    "X_train, X_test, y_train, y_test = train_test_split(X, y, test_size=0.5, random_state=0)"
   ]
  },
  {
   "cell_type": "code",
   "execution_count": 6,
   "id": "842dcdd5",
   "metadata": {},
   "outputs": [
    {
     "name": "stdout",
     "output_type": "stream",
     "text": [
      "SVM:\n",
      "Training error: 0.011857142857142858\n",
      "Testing error: 0.030571428571428572\n",
      "Rh: 0.04752415873183319\n",
      "\n",
      "\n",
      "Decision Tree:\n",
      "Training error: 0.0\n",
      "Testing error: 0.1591904761904762\n",
      "Rh: 152.28952005743102\n"
     ]
    }
   ],
   "source": [
    "\n",
    "# Train an SVM model on the training set\n",
    "svm_model = SVC()\n",
    "svm_model.fit(X_train, y_train)\n",
    "\n",
    "# Use the trained model to make predictions on the training set and the testing set\n",
    "svm_train_pred = svm_model.predict(X_train)\n",
    "svm_test_pred = svm_model.predict(X_test)\n",
    "\n",
    "# Calculate the training error and the testing error\n",
    "svm_train_error = np.mean(svm_train_pred != y_train)\n",
    "svm_test_error = np.mean(svm_test_pred != y_test)\n",
    "\n",
    "# Calculate R(h) for SVM\n",
    "r = 1 # constant\n",
    "s = 1 # constant\n",
    "d = X_train.shape[1] # number of features\n",
    "delta = 0.1 # constant\n",
    "m = X_train.shape[0] # number of samples\n",
    "svm_Rh = svm_train_error + r*math.sqrt((2*math.log(d+1))/m) + s*math.sqrt((math.log(1/delta))/m)\n",
    "\n",
    "# Train a Decision Tree model on the training set\n",
    "dt_model = DecisionTreeClassifier()\n",
    "dt_model.fit(X_train, y_train)\n",
    "\n",
    "# Use the trained model to make predictions on the training set and the testing set\n",
    "dt_train_pred = dt_model.predict(X_train)\n",
    "dt_test_pred = dt_model.predict(X_test)\n",
    "\n",
    "# Calculate the training error and the testing error\n",
    "dt_train_error = np.mean(dt_train_pred != y_train)\n",
    "dt_test_error = np.mean(dt_test_pred != y_test)\n",
    "\n",
    "# Calculate R(h) for Decision Tree\n",
    "n = dt_model.tree_.node_count # number of nodes in the tree\n",
    "dt_Rh = dt_train_error + math.sqrt((n+1)*math.log(d+3) + math.log(2/delta)/(2*m))\n",
    "\n",
    "# Print the results\n",
    "print(\"SVM:\")\n",
    "print(\"Training error:\", svm_train_error)\n",
    "print(\"Testing error:\", svm_test_error)\n",
    "print(\"Rh:\", svm_Rh)\n",
    "print(\"\\n\")\n",
    "print(\"Decision Tree:\")\n",
    "print(\"Training error:\", dt_train_error)\n",
    "print(\"Testing error:\", dt_test_error)\n",
    "print(\"Rh:\", dt_Rh)"
   ]
  },
  {
   "cell_type": "code",
   "execution_count": 8,
   "id": "ee097682",
   "metadata": {},
   "outputs": [
    {
     "ename": "KeyError",
     "evalue": "'x1'",
     "output_type": "error",
     "traceback": [
      "\u001b[1;31m---------------------------------------------------------------------------\u001b[0m",
      "\u001b[1;31mKeyError\u001b[0m                                  Traceback (most recent call last)",
      "\u001b[1;32m~\\anaconda3\\lib\\site-packages\\pandas\\core\\indexes\\base.py\u001b[0m in \u001b[0;36mget_loc\u001b[1;34m(self, key, method, tolerance)\u001b[0m\n\u001b[0;32m   3628\u001b[0m             \u001b[1;32mtry\u001b[0m\u001b[1;33m:\u001b[0m\u001b[1;33m\u001b[0m\u001b[1;33m\u001b[0m\u001b[0m\n\u001b[1;32m-> 3629\u001b[1;33m                 \u001b[1;32mreturn\u001b[0m \u001b[0mself\u001b[0m\u001b[1;33m.\u001b[0m\u001b[0m_engine\u001b[0m\u001b[1;33m.\u001b[0m\u001b[0mget_loc\u001b[0m\u001b[1;33m(\u001b[0m\u001b[0mcasted_key\u001b[0m\u001b[1;33m)\u001b[0m\u001b[1;33m\u001b[0m\u001b[1;33m\u001b[0m\u001b[0m\n\u001b[0m\u001b[0;32m   3630\u001b[0m             \u001b[1;32mexcept\u001b[0m \u001b[0mKeyError\u001b[0m \u001b[1;32mas\u001b[0m \u001b[0merr\u001b[0m\u001b[1;33m:\u001b[0m\u001b[1;33m\u001b[0m\u001b[1;33m\u001b[0m\u001b[0m\n",
      "\u001b[1;32m~\\anaconda3\\lib\\site-packages\\pandas\\_libs\\index.pyx\u001b[0m in \u001b[0;36mpandas._libs.index.IndexEngine.get_loc\u001b[1;34m()\u001b[0m\n",
      "\u001b[1;32m~\\anaconda3\\lib\\site-packages\\pandas\\_libs\\index.pyx\u001b[0m in \u001b[0;36mpandas._libs.index.IndexEngine.get_loc\u001b[1;34m()\u001b[0m\n",
      "\u001b[1;32mpandas\\_libs\\hashtable_class_helper.pxi\u001b[0m in \u001b[0;36mpandas._libs.hashtable.PyObjectHashTable.get_item\u001b[1;34m()\u001b[0m\n",
      "\u001b[1;32mpandas\\_libs\\hashtable_class_helper.pxi\u001b[0m in \u001b[0;36mpandas._libs.hashtable.PyObjectHashTable.get_item\u001b[1;34m()\u001b[0m\n",
      "\u001b[1;31mKeyError\u001b[0m: 'x1'",
      "\nThe above exception was the direct cause of the following exception:\n",
      "\u001b[1;31mKeyError\u001b[0m                                  Traceback (most recent call last)",
      "\u001b[1;32m~\\AppData\\Local\\Temp\\ipykernel_9016\\743617033.py\u001b[0m in \u001b[0;36m<module>\u001b[1;34m\u001b[0m\n\u001b[0;32m      8\u001b[0m \u001b[1;33m\u001b[0m\u001b[0m\n\u001b[0;32m      9\u001b[0m \u001b[1;31m# Extract the data into x1 and x2 columns\u001b[0m\u001b[1;33m\u001b[0m\u001b[1;33m\u001b[0m\u001b[0m\n\u001b[1;32m---> 10\u001b[1;33m \u001b[0mx1\u001b[0m \u001b[1;33m=\u001b[0m \u001b[0mdata\u001b[0m\u001b[1;33m[\u001b[0m\u001b[1;34m\"x1\"\u001b[0m\u001b[1;33m]\u001b[0m\u001b[1;33m\u001b[0m\u001b[1;33m\u001b[0m\u001b[0m\n\u001b[0m\u001b[0;32m     11\u001b[0m \u001b[0mx2\u001b[0m \u001b[1;33m=\u001b[0m \u001b[0mdata\u001b[0m\u001b[1;33m[\u001b[0m\u001b[1;34m\"x2\"\u001b[0m\u001b[1;33m]\u001b[0m\u001b[1;33m\u001b[0m\u001b[1;33m\u001b[0m\u001b[0m\n\u001b[0;32m     12\u001b[0m \u001b[1;33m\u001b[0m\u001b[0m\n",
      "\u001b[1;32m~\\anaconda3\\lib\\site-packages\\pandas\\core\\frame.py\u001b[0m in \u001b[0;36m__getitem__\u001b[1;34m(self, key)\u001b[0m\n\u001b[0;32m   3503\u001b[0m             \u001b[1;32mif\u001b[0m \u001b[0mself\u001b[0m\u001b[1;33m.\u001b[0m\u001b[0mcolumns\u001b[0m\u001b[1;33m.\u001b[0m\u001b[0mnlevels\u001b[0m \u001b[1;33m>\u001b[0m \u001b[1;36m1\u001b[0m\u001b[1;33m:\u001b[0m\u001b[1;33m\u001b[0m\u001b[1;33m\u001b[0m\u001b[0m\n\u001b[0;32m   3504\u001b[0m                 \u001b[1;32mreturn\u001b[0m \u001b[0mself\u001b[0m\u001b[1;33m.\u001b[0m\u001b[0m_getitem_multilevel\u001b[0m\u001b[1;33m(\u001b[0m\u001b[0mkey\u001b[0m\u001b[1;33m)\u001b[0m\u001b[1;33m\u001b[0m\u001b[1;33m\u001b[0m\u001b[0m\n\u001b[1;32m-> 3505\u001b[1;33m             \u001b[0mindexer\u001b[0m \u001b[1;33m=\u001b[0m \u001b[0mself\u001b[0m\u001b[1;33m.\u001b[0m\u001b[0mcolumns\u001b[0m\u001b[1;33m.\u001b[0m\u001b[0mget_loc\u001b[0m\u001b[1;33m(\u001b[0m\u001b[0mkey\u001b[0m\u001b[1;33m)\u001b[0m\u001b[1;33m\u001b[0m\u001b[1;33m\u001b[0m\u001b[0m\n\u001b[0m\u001b[0;32m   3506\u001b[0m             \u001b[1;32mif\u001b[0m \u001b[0mis_integer\u001b[0m\u001b[1;33m(\u001b[0m\u001b[0mindexer\u001b[0m\u001b[1;33m)\u001b[0m\u001b[1;33m:\u001b[0m\u001b[1;33m\u001b[0m\u001b[1;33m\u001b[0m\u001b[0m\n\u001b[0;32m   3507\u001b[0m                 \u001b[0mindexer\u001b[0m \u001b[1;33m=\u001b[0m \u001b[1;33m[\u001b[0m\u001b[0mindexer\u001b[0m\u001b[1;33m]\u001b[0m\u001b[1;33m\u001b[0m\u001b[1;33m\u001b[0m\u001b[0m\n",
      "\u001b[1;32m~\\anaconda3\\lib\\site-packages\\pandas\\core\\indexes\\base.py\u001b[0m in \u001b[0;36mget_loc\u001b[1;34m(self, key, method, tolerance)\u001b[0m\n\u001b[0;32m   3629\u001b[0m                 \u001b[1;32mreturn\u001b[0m \u001b[0mself\u001b[0m\u001b[1;33m.\u001b[0m\u001b[0m_engine\u001b[0m\u001b[1;33m.\u001b[0m\u001b[0mget_loc\u001b[0m\u001b[1;33m(\u001b[0m\u001b[0mcasted_key\u001b[0m\u001b[1;33m)\u001b[0m\u001b[1;33m\u001b[0m\u001b[1;33m\u001b[0m\u001b[0m\n\u001b[0;32m   3630\u001b[0m             \u001b[1;32mexcept\u001b[0m \u001b[0mKeyError\u001b[0m \u001b[1;32mas\u001b[0m \u001b[0merr\u001b[0m\u001b[1;33m:\u001b[0m\u001b[1;33m\u001b[0m\u001b[1;33m\u001b[0m\u001b[0m\n\u001b[1;32m-> 3631\u001b[1;33m                 \u001b[1;32mraise\u001b[0m \u001b[0mKeyError\u001b[0m\u001b[1;33m(\u001b[0m\u001b[0mkey\u001b[0m\u001b[1;33m)\u001b[0m \u001b[1;32mfrom\u001b[0m \u001b[0merr\u001b[0m\u001b[1;33m\u001b[0m\u001b[1;33m\u001b[0m\u001b[0m\n\u001b[0m\u001b[0;32m   3632\u001b[0m             \u001b[1;32mexcept\u001b[0m \u001b[0mTypeError\u001b[0m\u001b[1;33m:\u001b[0m\u001b[1;33m\u001b[0m\u001b[1;33m\u001b[0m\u001b[0m\n\u001b[0;32m   3633\u001b[0m                 \u001b[1;31m# If we have a listlike key, _check_indexing_error will raise\u001b[0m\u001b[1;33m\u001b[0m\u001b[1;33m\u001b[0m\u001b[0m\n",
      "\u001b[1;31mKeyError\u001b[0m: 'x1'"
     ]
    }
   ],
   "source": [
    "from numpy.linalg import inv, det\n",
    "\n",
    "# Load the dataset\n",
    "data = pd.read_csv(\"DataSet_4.csv\")\n",
    "\n",
    "# Given Λ matrix\n",
    "Lambda = np.array([[1, 0], [0, 0.7]])\n",
    "\n",
    "# Extract the data into x1 and x2 columns\n",
    "x1 = data.iloc[:, 0][\n",
    "x2 = data.iloc[:, 1]\n",
    "\n",
    "# Combine x1 and x2 into a single matrix X\n",
    "X = np.column_stack((x1, x2))\n",
    "\n",
    "# Calculate the number of samples\n",
    "m = X.shape[0]\n",
    "\n",
    "# Calculate the sample mean vector\n",
    "mu = np.mean(X, axis=0)\n",
    "\n",
    "# Calculate the sample covariance matrix\n",
    "S = np.cov(X.T)\n",
    "\n",
    "# Calculate the MLE estimate of mu\n",
    "mu_hat = mu.reshape(-1, 1) + (Lambda @ inv(Lambda + S/m)) @ ((X - mu).T)\n",
    "\n",
    "print(\"MLE estimate of mu:\")\n",
    "print(mu_hat)"
   ]
  },
  {
   "cell_type": "markdown",
   "id": "e28d7e7f",
   "metadata": {},
   "source": [
    "### >>>>>>>>>>> COMPLETE <<<<<<<<<<<<"
   ]
  },
  {
   "cell_type": "code",
   "execution_count": null,
   "id": "ffaccc5c",
   "metadata": {},
   "outputs": [],
   "source": []
  }
 ],
 "metadata": {
  "kernelspec": {
   "display_name": "Python 3 (ipykernel)",
   "language": "python",
   "name": "python3"
  },
  "language_info": {
   "codemirror_mode": {
    "name": "ipython",
    "version": 3
   },
   "file_extension": ".py",
   "mimetype": "text/x-python",
   "name": "python",
   "nbconvert_exporter": "python",
   "pygments_lexer": "ipython3",
   "version": "3.9.13"
  }
 },
 "nbformat": 4,
 "nbformat_minor": 5
}
